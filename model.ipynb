{
 "cells": [
  {
   "cell_type": "markdown",
   "id": "green-handle",
   "metadata": {},
   "source": [
    "## Importing packages"
   ]
  },
  {
   "cell_type": "code",
   "execution_count": 31,
   "id": "detailed-contamination",
   "metadata": {},
   "outputs": [],
   "source": [
    "import tensorflow as tf\n",
    "import numpy as np\n",
    "import matplotlib.pyplot as plt\n",
    "import seaborn as sn\n",
    "import os\n",
    "from skimage.io import imread\n",
    "from skimage.color import rgb2lab, lab2rgb\n",
    "from PIL import Image"
   ]
  },
  {
   "cell_type": "markdown",
   "id": "level-hanging",
   "metadata": {},
   "source": [
    "# Preparing the dataset\n",
    "1.Importing images\n",
    "\n",
    "2.Converting images into Grayscale"
   ]
  },
  {
   "cell_type": "code",
   "execution_count": 40,
   "id": "essential-decimal",
   "metadata": {},
   "outputs": [
    {
     "data": {
      "text/plain": [
       "<Figure size 4608x4608 with 0 Axes>"
      ]
     },
     "metadata": {},
     "output_type": "display_data"
    },
    {
     "data": {
      "text/plain": [
       "<Figure size 4608x4608 with 0 Axes>"
      ]
     },
     "metadata": {},
     "output_type": "display_data"
    },
    {
     "data": {
      "text/plain": [
       "<Figure size 4608x4608 with 0 Axes>"
      ]
     },
     "metadata": {},
     "output_type": "display_data"
    },
    {
     "data": {
      "text/plain": [
       "<Figure size 4608x4608 with 0 Axes>"
      ]
     },
     "metadata": {},
     "output_type": "display_data"
    },
    {
     "data": {
      "text/plain": [
       "<Figure size 4608x4608 with 0 Axes>"
      ]
     },
     "metadata": {},
     "output_type": "display_data"
    },
    {
     "data": {
      "text/plain": [
       "<Figure size 4608x4608 with 0 Axes>"
      ]
     },
     "metadata": {},
     "output_type": "display_data"
    },
    {
     "data": {
      "text/plain": [
       "<Figure size 4608x4608 with 0 Axes>"
      ]
     },
     "metadata": {},
     "output_type": "display_data"
    },
    {
     "data": {
      "text/plain": [
       "<Figure size 4608x4608 with 0 Axes>"
      ]
     },
     "metadata": {},
     "output_type": "display_data"
    },
    {
     "data": {
      "text/plain": [
       "<Figure size 4608x4608 with 0 Axes>"
      ]
     },
     "metadata": {},
     "output_type": "display_data"
    },
    {
     "data": {
      "text/plain": [
       "<Figure size 4608x4608 with 0 Axes>"
      ]
     },
     "metadata": {},
     "output_type": "display_data"
    }
   ],
   "source": [
    "direc='C:/Users/2019/Desktop/Studying/Machine Learning/Image_recolorizer/tiny-imagenet-200/train/n01443537/images2'\n",
    "counter=0\n",
    "for x in os.listdir(direc):\n",
    "    if x.endswith('.JPEG') and counter<10:\n",
    "        counter+=1\n",
    "        path=direc+'/'+x\n",
    "        img=imread(path)\n",
    "        \n",
    "        plt.figure(figsize=(64,64))\n",
    "        \n",
    "        img=rgb2lab(img)\n",
    "        img[...,1] = img[...,2] = 0\n",
    "        img=lab2rgb(img)\n",
    "        \n",
    "#         plt.imshow(img)\n",
    "        img = Image.fromarray(img, 'RGB')\n",
    "        savepath=direc+'/'+x.replace('.JPEG', 'lab.JPEG')\n",
    "        img.save(savepath,'JPEG')\n",
    "        "
   ]
  },
  {
   "cell_type": "code",
   "execution_count": null,
   "id": "dimensional-ceramic",
   "metadata": {},
   "outputs": [],
   "source": []
  }
 ],
 "metadata": {
  "kernelspec": {
   "display_name": "Python 3",
   "language": "python",
   "name": "python3"
  },
  "language_info": {
   "codemirror_mode": {
    "name": "ipython",
    "version": 3
   },
   "file_extension": ".py",
   "mimetype": "text/x-python",
   "name": "python",
   "nbconvert_exporter": "python",
   "pygments_lexer": "ipython3",
   "version": "3.9.2"
  }
 },
 "nbformat": 4,
 "nbformat_minor": 5
}
